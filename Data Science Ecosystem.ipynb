{
 "cells": [
  {
   "cell_type": "markdown",
   "id": "745f3a30-7eae-401c-90a9-5b4b031a44f0",
   "metadata": {},
   "source": [
    "# Data Science Tools and Ecosystem "
   ]
  },
  {
   "cell_type": "markdown",
   "id": "ecd0b3a2-1ce0-482e-bb0d-c4da0d51bfb3",
   "metadata": {},
   "source": [
    "***In this notebook, Data Science Tools and Ecosystem are summarized***\n",
    "**Objetivos:**\n",
    "\n",
    " * Some of the popular languages that Data Scientists\n",
    " * Some of the commonly used libraries used by Data Scientists include\n",
    " * evaluating arithmetic expressions in Python "
   ]
  },
  {
   "cell_type": "markdown",
   "id": "c6c6d64a-47b1-4e28-abaf-d44465a6e0ab",
   "metadata": {},
   "source": [
    "**Some of the popular languages that Data Scientists use are:**\n",
    "1. python\n",
    "2. R\n",
    "3. SQL"
   ]
  },
  {
   "cell_type": "markdown",
   "id": "8cd4749e-02b1-4562-9bae-2fbb41662b3a",
   "metadata": {},
   "source": [
    "**Some of the commonly used libraries used by Data Scientists include:**\n",
    "1. NumPy\n",
    "2. Pandas\n",
    "3. Matplotlib \n"
   ]
  },
  {
   "cell_type": "markdown",
   "id": "ee0b22f2-754c-47a2-84ed-bce8feaa146e",
   "metadata": {},
   "source": [
    "| Data Science Tools |\n",
    "----------------------\n",
    "|Cuadernos Jupyter|\n",
    "|RStudio |\n",
    "|Spyder|"
   ]
  },
  {
   "cell_type": "markdown",
   "id": "b95c9f2e-a262-4853-8ee0-af002c4af0fe",
   "metadata": {},
   "source": [
    "**Below are a few examples of evaluating arithmetic expressions in Python:**\n"
   ]
  },
  {
   "cell_type": "code",
   "execution_count": 1,
   "id": "cc7f8e76-c6bc-410b-982a-51a33c0ef23b",
   "metadata": {},
   "outputs": [
    {
     "data": {
      "text/plain": [
       "17"
      ]
     },
     "execution_count": 1,
     "metadata": {},
     "output_type": "execute_result"
    }
   ],
   "source": [
    "(3*4)+5\n",
    "\n"
   ]
  },
  {
   "cell_type": "code",
   "execution_count": 2,
   "id": "94542bb9-872d-440a-a460-7b246786057b",
   "metadata": {
    "tags": []
   },
   "outputs": [
    {
     "data": {
      "text/plain": [
       "3.3333333333333335"
      ]
     },
     "execution_count": 2,
     "metadata": {},
     "output_type": "execute_result"
    }
   ],
   "source": [
    "#***This will convert 200 minutes to hours by diving by 60***#\n",
    "\n",
    "200/60"
   ]
  },
  {
   "cell_type": "markdown",
   "id": "dd6dec2c-5e14-4ccb-8bc2-382be566c210",
   "metadata": {},
   "source": [
    "***Author:*** \n",
    "## Martin Nicolás Rosas Linares :)"
   ]
  }
 ],
 "metadata": {
  "kernelspec": {
   "display_name": "Python",
   "language": "python",
   "name": "conda-env-python-py"
  },
  "language_info": {
   "codemirror_mode": {
    "name": "ipython",
    "version": 3
   },
   "file_extension": ".py",
   "mimetype": "text/x-python",
   "name": "python",
   "nbconvert_exporter": "python",
   "pygments_lexer": "ipython3",
   "version": "3.7.12"
  }
 },
 "nbformat": 4,
 "nbformat_minor": 5
}
